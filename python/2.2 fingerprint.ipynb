{
 "cells": [
  {
   "cell_type": "code",
   "execution_count": 1,
   "metadata": {},
   "outputs": [],
   "source": [
    "import pandas as pd\n",
    "import numpy as np\n",
    "from scipy import stats\n",
    "\n",
    "import math"
   ]
  },
  {
   "cell_type": "code",
   "execution_count": 2,
   "metadata": {},
   "outputs": [],
   "source": [
    "%matplotlib inline\n",
    "import matplotlib.pyplot as plt\n",
    "import matplotlib"
   ]
  },
  {
   "cell_type": "markdown",
   "metadata": {},
   "source": [
    "## 0 Load Data"
   ]
  },
  {
   "cell_type": "code",
   "execution_count": 3,
   "metadata": {},
   "outputs": [],
   "source": [
    "raw_data = pd.read_csv(\"fingerprint_data.csv\",  dtype={'imsi':np.str})"
   ]
  },
  {
   "cell_type": "code",
   "execution_count": 4,
   "metadata": {},
   "outputs": [
    {
     "data": {
      "text/plain": [
       "(11094, 72)"
      ]
     },
     "execution_count": 4,
     "metadata": {},
     "output_type": "execute_result"
    }
   ],
   "source": [
    "raw_data.shape"
   ]
  },
  {
   "cell_type": "code",
   "execution_count": 5,
   "metadata": {},
   "outputs": [
    {
     "data": {
      "text/plain": [
       "Index(['user_id', 'idfa', 'imei', 'mac', 'imsi', 'android_id', 'phone_model',\n",
       "       'phone_name', 'networktype', 'version', 'lcd', 'phone_os', 'battery',\n",
       "       'totalmemory', 'availablememory', 'totalsystem', 'availablesystem',\n",
       "       'totalsd', 'availablesd', 'udid', 'basestation', 'rssi', 'mnc', 'mcc',\n",
       "       'cellid', 'lac', 'nearbybasestation', 'displayrom', 'currentwifi',\n",
       "       'simulator', 'product', 'hardware', 'stat', 'sdkversion', 'brightness',\n",
       "       'cpuspeed', 'simstate', 'fingerprint', 'hascellular', 'haswifi',\n",
       "       'hasgps', 'hastelephony', 'hasbluetooth', 'simserial',\n",
       "       'gravitysensorlist', 'grav_x', 'grav_y', 'grav_z', 'simlac',\n",
       "       'simstrength', 'gyroscopesensorlist', 'x', 'y', 'z',\n",
       "       'pressuresensorlist', 'type', 'tags', 'networkoperator', 'manufacturer',\n",
       "       'device', 'currenttime', 'cpuabi', 'cellularip', 'networkcountryiso',\n",
       "       'simcountryiso', 'bluetooth', 'host', 'cpuarchitecture',\n",
       "       'imanufacturer', 'timestamp', 'ethip', 'trueip'],\n",
       "      dtype='object')"
      ]
     },
     "execution_count": 5,
     "metadata": {},
     "output_type": "execute_result"
    }
   ],
   "source": [
    "raw_data.columns"
   ]
  },
  {
   "cell_type": "markdown",
   "metadata": {},
   "source": [
    "## 1 MD5 Hash"
   ]
  },
  {
   "cell_type": "code",
   "execution_count": 6,
   "metadata": {},
   "outputs": [],
   "source": [
    "import hashlib\n",
    "\n",
    "def md5_hash(df, feature_columns):\n",
    "    df['concat'] = df[feature_columns].iloc[:, :].astype(str).add('_').sum(axis=1)\n",
    "    \n",
    "    df['md5'] = [hashlib.md5(val.encode(\"UTF8\")).hexdigest() for val in df['concat']]\n",
    "    \n",
    "    return df"
   ]
  },
  {
   "cell_type": "code",
   "execution_count": 7,
   "metadata": {},
   "outputs": [],
   "source": [
    "#test_df = md5_hash(raw_data.copy(), [ 'phone_model', 'phone_name'])\n",
    "#test_df['concat']"
   ]
  },
  {
   "cell_type": "markdown",
   "metadata": {},
   "source": [
    "## 2.1 Information Gain"
   ]
  },
  {
   "cell_type": "code",
   "execution_count": 8,
   "metadata": {},
   "outputs": [],
   "source": [
    "def entropy(df, label_column):\n",
    "    p_data= df[label_column].value_counts()/len(df) # calculates the probabilities\n",
    "    entropy=stats.entropy(p_data) # input probabilities to get the entropy\n",
    "    return entropy"
   ]
  },
  {
   "cell_type": "code",
   "execution_count": 9,
   "metadata": {},
   "outputs": [],
   "source": [
    "DEBUG = False\n",
    "\n",
    "def relative_entropy(df, label_column, feature_column):\n",
    "    if(DEBUG):\n",
    "        print(feature_column)\n",
    "    if label_column == feature_column:\n",
    "        return 0\n",
    "    \n",
    "    df_tmp = df[[label_column, feature_column]]\n",
    "    ## [feature, label, sub_count]\n",
    "    df_feature_label = df_tmp.groupby([feature_column, label_column]).size().reset_index(name='sub_count')\n",
    "    ## [feature, count]\n",
    "    df_feature = df_tmp.groupby(feature_column).size().reset_index(name='count')\n",
    "\n",
    "    ## [feature, label, sub_count, count]\n",
    "    df_group = df_feature_label.merge(df_feature, on = feature_column)\n",
    "    \n",
    "    ## [feature, label, sub_count, count]\n",
    "    ## TODO apply is slow\n",
    "    df_group['group_entropy'] =  df_group.apply(lambda x: math.log(x['count'] / x['sub_count']) * x['sub_count'] / x['count'], axis=1) \n",
    "    \n",
    "    ## [feature, group_entropy]\n",
    "    group_entropy = df_group.groupby(feature_column)['group_entropy'].sum().reset_index(name='group_entropy')\n",
    "    \n",
    "    ## [feature, count, ratio]\n",
    "    df_feature['ratio'] = df_feature['count']/ df.shape[0]\n",
    "    relative_env = (group_entropy['group_entropy'] * df_feature['ratio']).sum()\n",
    "    \n",
    "    return relative_env "
   ]
  },
  {
   "cell_type": "code",
   "execution_count": 10,
   "metadata": {},
   "outputs": [],
   "source": [
    "def information_gain(df, label_column, feature_columns):\n",
    "    ent = entropy(df, label_column)\n",
    "    ent_map = [ relative_entropy(df, label_column, column) for column in feature_columns]\n",
    "    ig = ent - ent_map \n",
    "    ig_map = dict(zip(feature_columns, ig))\n",
    "    return ig_map"
   ]
  },
  {
   "cell_type": "markdown",
   "metadata": {},
   "source": [
    "*  https://pandas.pydata.org/pandas-docs/stable/user_guide/merging.html"
   ]
  },
  {
   "cell_type": "markdown",
   "metadata": {},
   "source": [
    "## 2.2 Stability"
   ]
  },
  {
   "cell_type": "code",
   "execution_count": 11,
   "metadata": {},
   "outputs": [],
   "source": [
    "def stability_calc(df, label_column, feature_column):\n",
    "    if(DEBUG):\n",
    "        print(feature_column)\n",
    "    if label_column == feature_column:\n",
    "        return 1\n",
    "    \n",
    "    df_tmp = df[[label_column, feature_column]]\n",
    "    \n",
    "     # [label, count], filter label by count\n",
    "    df_label_cnt = df_tmp.groupby(label_column).size().reset_index(name='count')\n",
    "    # at least appear twice, then consider stability\n",
    "    df_label = df_label_cnt[df_label_cnt['count'] > 1]\n",
    "           \n",
    "    # [label, distinct_feature_count]\n",
    "    df_label_feature_cnt = df_tmp.groupby(label_column).agg({feature_column: pd.Series.nunique}).reset_index()\n",
    "    \n",
    "    result = pd.merge(df_label,df_label_feature_cnt,how='inner',on=label_column)\n",
    "    return result[feature_column].sum() /  result.shape[0]"
   ]
  },
  {
   "cell_type": "code",
   "execution_count": 12,
   "metadata": {},
   "outputs": [],
   "source": [
    "def stability(df, label_column, feature_columns):\n",
    "    stable_list = [ stability_calc(df, label_column, column) for column in feature_columns]\n",
    "    \n",
    "    stable_map =  dict(zip(feature_columns, stable_list))\n",
    "    #return sorted(stable_map.items(), key=lambda kv: -kv[1])\n",
    "    return stable_map"
   ]
  },
  {
   "cell_type": "markdown",
   "metadata": {},
   "source": [
    "## 3 Evaluation"
   ]
  },
  {
   "cell_type": "code",
   "execution_count": 13,
   "metadata": {},
   "outputs": [],
   "source": [
    "def evaluation(df, label_column, fp_column):\n",
    "    df_label_fp = df[[label_column, fp_column]].copy()\n",
    "    \n",
    "    label_same = pd.merge(df_label_fp,df_label_fp,how='inner',on=label_column)\n",
    "    fp_same = pd.merge(df_label_fp,df_label_fp,how='inner',on=fp_column)\n",
    "    \n",
    "    sample_cnt = df_label_fp.shape[0]\n",
    "    fp_same_cnt = fp_same.shape[0] - sample_cnt\n",
    "    label_same_cnt = label_same.shape[0] - sample_cnt\n",
    "    truePositiveCnt = fp_same [fp_same.imei_x == fp_same.imei_y].shape[0] - sample_cnt\n",
    "    \n",
    "    recall = truePositiveCnt / label_same_cnt\n",
    "    precision = truePositiveCnt / fp_same_cnt\n",
    "    return {'precision':precision, 'recall':recall}"
   ]
  },
  {
   "cell_type": "code",
   "execution_count": 14,
   "metadata": {},
   "outputs": [],
   "source": [
    "def fp_evaluation(df, label_column, feature_columns):   \n",
    "    fp_feature_columns = np.setdiff1d(feature_columns, np.array([label_column]))\n",
    "    \n",
    "    md5_hash(df, feature_columns)\n",
    "    ret = evaluation(df, label_column, 'md5')\n",
    "    return ret"
   ]
  },
  {
   "cell_type": "markdown",
   "metadata": {},
   "source": [
    "## 4 特征指标计算"
   ]
  },
  {
   "cell_type": "code",
   "execution_count": 15,
   "metadata": {},
   "outputs": [],
   "source": [
    "df = raw_data.copy()\n",
    "df.fillna('MISSING', inplace=True)\n",
    "\n",
    "label_column = 'imei'\n",
    "feature_columns = df.columns.difference([label_column])"
   ]
  },
  {
   "cell_type": "code",
   "execution_count": 16,
   "metadata": {},
   "outputs": [],
   "source": [
    "## waiting time, a cup of coffee, several minutes"
   ]
  },
  {
   "cell_type": "code",
   "execution_count": 17,
   "metadata": {},
   "outputs": [
    {
     "name": "stdout",
     "output_type": "stream",
     "text": [
      "======= information gain =========\n",
      "======= stability =========\n"
     ]
    }
   ],
   "source": [
    "print(\"======= information gain =========\")\n",
    "info_gain = information_gain(df, label_column, feature_columns)\n",
    "\n",
    "print(\"======= stability =========\")\n",
    "stable = stability(df, label_column, feature_columns)\n",
    "\n",
    "df_features = pd.DataFrame([info_gain, stable]).transpose().rename(columns={0:'info_gain', 1:'stable'}).sort_values(by='info_gain',ascending=False)"
   ]
  },
  {
   "cell_type": "code",
   "execution_count": 18,
   "metadata": {},
   "outputs": [],
   "source": [
    "df_features = df_features.round(2)"
   ]
  },
  {
   "cell_type": "code",
   "execution_count": 19,
   "metadata": {},
   "outputs": [],
   "source": [
    "#df_features"
   ]
  },
  {
   "cell_type": "code",
   "execution_count": 20,
   "metadata": {},
   "outputs": [],
   "source": [
    "fp_features = df_features[ (df_features.info_gain > 1) &  (df_features.stable < 1.1 ) ]"
   ]
  },
  {
   "cell_type": "code",
   "execution_count": 21,
   "metadata": {},
   "outputs": [
    {
     "data": {
      "text/html": [
       "<div>\n",
       "<style scoped>\n",
       "    .dataframe tbody tr th:only-of-type {\n",
       "        vertical-align: middle;\n",
       "    }\n",
       "\n",
       "    .dataframe tbody tr th {\n",
       "        vertical-align: top;\n",
       "    }\n",
       "\n",
       "    .dataframe thead th {\n",
       "        text-align: right;\n",
       "    }\n",
       "</style>\n",
       "<table border=\"1\" class=\"dataframe\">\n",
       "  <thead>\n",
       "    <tr style=\"text-align: right;\">\n",
       "      <th></th>\n",
       "      <th>info_gain</th>\n",
       "      <th>stable</th>\n",
       "    </tr>\n",
       "  </thead>\n",
       "  <tbody>\n",
       "    <tr>\n",
       "      <th>imsi</th>\n",
       "      <td>9.22</td>\n",
       "      <td>1.01</td>\n",
       "    </tr>\n",
       "    <tr>\n",
       "      <th>simserial</th>\n",
       "      <td>9.21</td>\n",
       "      <td>1.01</td>\n",
       "    </tr>\n",
       "    <tr>\n",
       "      <th>mac</th>\n",
       "      <td>8.92</td>\n",
       "      <td>1.03</td>\n",
       "    </tr>\n",
       "    <tr>\n",
       "      <th>fingerprint</th>\n",
       "      <td>5.97</td>\n",
       "      <td>1.02</td>\n",
       "    </tr>\n",
       "    <tr>\n",
       "      <th>phone_model</th>\n",
       "      <td>5.36</td>\n",
       "      <td>1.00</td>\n",
       "    </tr>\n",
       "    <tr>\n",
       "      <th>displayrom</th>\n",
       "      <td>5.35</td>\n",
       "      <td>1.01</td>\n",
       "    </tr>\n",
       "    <tr>\n",
       "      <th>product</th>\n",
       "      <td>5.26</td>\n",
       "      <td>1.00</td>\n",
       "    </tr>\n",
       "    <tr>\n",
       "      <th>totalsystem</th>\n",
       "      <td>4.79</td>\n",
       "      <td>1.00</td>\n",
       "    </tr>\n",
       "    <tr>\n",
       "      <th>totalsd</th>\n",
       "      <td>4.79</td>\n",
       "      <td>1.00</td>\n",
       "    </tr>\n",
       "    <tr>\n",
       "      <th>cpuspeed</th>\n",
       "      <td>2.97</td>\n",
       "      <td>1.02</td>\n",
       "    </tr>\n",
       "    <tr>\n",
       "      <th>lcd</th>\n",
       "      <td>2.65</td>\n",
       "      <td>1.00</td>\n",
       "    </tr>\n",
       "    <tr>\n",
       "      <th>phone_os</th>\n",
       "      <td>2.18</td>\n",
       "      <td>1.00</td>\n",
       "    </tr>\n",
       "    <tr>\n",
       "      <th>phone_name</th>\n",
       "      <td>2.04</td>\n",
       "      <td>1.00</td>\n",
       "    </tr>\n",
       "    <tr>\n",
       "      <th>mnc</th>\n",
       "      <td>1.95</td>\n",
       "      <td>1.09</td>\n",
       "    </tr>\n",
       "    <tr>\n",
       "      <th>hardware</th>\n",
       "      <td>1.64</td>\n",
       "      <td>1.00</td>\n",
       "    </tr>\n",
       "    <tr>\n",
       "      <th>totalmemory</th>\n",
       "      <td>1.11</td>\n",
       "      <td>1.00</td>\n",
       "    </tr>\n",
       "  </tbody>\n",
       "</table>\n",
       "</div>"
      ],
      "text/plain": [
       "             info_gain  stable\n",
       "imsi              9.22    1.01\n",
       "simserial         9.21    1.01\n",
       "mac               8.92    1.03\n",
       "fingerprint       5.97    1.02\n",
       "phone_model       5.36    1.00\n",
       "displayrom        5.35    1.01\n",
       "product           5.26    1.00\n",
       "totalsystem       4.79    1.00\n",
       "totalsd           4.79    1.00\n",
       "cpuspeed          2.97    1.02\n",
       "lcd               2.65    1.00\n",
       "phone_os          2.18    1.00\n",
       "phone_name        2.04    1.00\n",
       "mnc               1.95    1.09\n",
       "hardware          1.64    1.00\n",
       "totalmemory       1.11    1.00"
      ]
     },
     "execution_count": 21,
     "metadata": {},
     "output_type": "execute_result"
    }
   ],
   "source": [
    "fp_features"
   ]
  },
  {
   "cell_type": "code",
   "execution_count": 22,
   "metadata": {},
   "outputs": [
    {
     "data": {
      "text/html": [
       "<div>\n",
       "<style scoped>\n",
       "    .dataframe tbody tr th:only-of-type {\n",
       "        vertical-align: middle;\n",
       "    }\n",
       "\n",
       "    .dataframe tbody tr th {\n",
       "        vertical-align: top;\n",
       "    }\n",
       "\n",
       "    .dataframe thead th {\n",
       "        text-align: right;\n",
       "    }\n",
       "</style>\n",
       "<table border=\"1\" class=\"dataframe\">\n",
       "  <thead>\n",
       "    <tr style=\"text-align: right;\">\n",
       "      <th></th>\n",
       "      <th>info_gain</th>\n",
       "      <th>stable</th>\n",
       "    </tr>\n",
       "  </thead>\n",
       "  <tbody>\n",
       "    <tr>\n",
       "      <th>mnc</th>\n",
       "      <td>1.95</td>\n",
       "      <td>1.09</td>\n",
       "    </tr>\n",
       "    <tr>\n",
       "      <th>mac</th>\n",
       "      <td>8.92</td>\n",
       "      <td>1.03</td>\n",
       "    </tr>\n",
       "    <tr>\n",
       "      <th>fingerprint</th>\n",
       "      <td>5.97</td>\n",
       "      <td>1.02</td>\n",
       "    </tr>\n",
       "    <tr>\n",
       "      <th>cpuspeed</th>\n",
       "      <td>2.97</td>\n",
       "      <td>1.02</td>\n",
       "    </tr>\n",
       "    <tr>\n",
       "      <th>imsi</th>\n",
       "      <td>9.22</td>\n",
       "      <td>1.01</td>\n",
       "    </tr>\n",
       "    <tr>\n",
       "      <th>simserial</th>\n",
       "      <td>9.21</td>\n",
       "      <td>1.01</td>\n",
       "    </tr>\n",
       "    <tr>\n",
       "      <th>displayrom</th>\n",
       "      <td>5.35</td>\n",
       "      <td>1.01</td>\n",
       "    </tr>\n",
       "    <tr>\n",
       "      <th>phone_model</th>\n",
       "      <td>5.36</td>\n",
       "      <td>1.00</td>\n",
       "    </tr>\n",
       "    <tr>\n",
       "      <th>product</th>\n",
       "      <td>5.26</td>\n",
       "      <td>1.00</td>\n",
       "    </tr>\n",
       "    <tr>\n",
       "      <th>totalsystem</th>\n",
       "      <td>4.79</td>\n",
       "      <td>1.00</td>\n",
       "    </tr>\n",
       "    <tr>\n",
       "      <th>totalsd</th>\n",
       "      <td>4.79</td>\n",
       "      <td>1.00</td>\n",
       "    </tr>\n",
       "    <tr>\n",
       "      <th>lcd</th>\n",
       "      <td>2.65</td>\n",
       "      <td>1.00</td>\n",
       "    </tr>\n",
       "    <tr>\n",
       "      <th>phone_os</th>\n",
       "      <td>2.18</td>\n",
       "      <td>1.00</td>\n",
       "    </tr>\n",
       "    <tr>\n",
       "      <th>phone_name</th>\n",
       "      <td>2.04</td>\n",
       "      <td>1.00</td>\n",
       "    </tr>\n",
       "    <tr>\n",
       "      <th>hardware</th>\n",
       "      <td>1.64</td>\n",
       "      <td>1.00</td>\n",
       "    </tr>\n",
       "    <tr>\n",
       "      <th>totalmemory</th>\n",
       "      <td>1.11</td>\n",
       "      <td>1.00</td>\n",
       "    </tr>\n",
       "  </tbody>\n",
       "</table>\n",
       "</div>"
      ],
      "text/plain": [
       "             info_gain  stable\n",
       "mnc               1.95    1.09\n",
       "mac               8.92    1.03\n",
       "fingerprint       5.97    1.02\n",
       "cpuspeed          2.97    1.02\n",
       "imsi              9.22    1.01\n",
       "simserial         9.21    1.01\n",
       "displayrom        5.35    1.01\n",
       "phone_model       5.36    1.00\n",
       "product           5.26    1.00\n",
       "totalsystem       4.79    1.00\n",
       "totalsd           4.79    1.00\n",
       "lcd               2.65    1.00\n",
       "phone_os          2.18    1.00\n",
       "phone_name        2.04    1.00\n",
       "hardware          1.64    1.00\n",
       "totalmemory       1.11    1.00"
      ]
     },
     "execution_count": 22,
     "metadata": {},
     "output_type": "execute_result"
    }
   ],
   "source": [
    "fp_features.sort_values(by=['stable'], ascending=False)"
   ]
  },
  {
   "cell_type": "code",
   "execution_count": 23,
   "metadata": {},
   "outputs": [
    {
     "data": {
      "text/plain": [
       "(16, 2)"
      ]
     },
     "execution_count": 23,
     "metadata": {},
     "output_type": "execute_result"
    }
   ],
   "source": [
    "fp_features.shape"
   ]
  },
  {
   "cell_type": "markdown",
   "metadata": {},
   "source": [
    "## 5  特征筛选"
   ]
  },
  {
   "cell_type": "code",
   "execution_count": 24,
   "metadata": {},
   "outputs": [],
   "source": [
    "id_columns = ['imsi', 'simserial', 'mac']\n",
    "\n",
    "normal_columns = fp_features.index.difference(id_columns).values.tolist()"
   ]
  },
  {
   "cell_type": "code",
   "execution_count": null,
   "metadata": {},
   "outputs": [],
   "source": []
  },
  {
   "cell_type": "markdown",
   "metadata": {},
   "source": [
    "### 5.1 ID类特征"
   ]
  },
  {
   "cell_type": "code",
   "execution_count": 25,
   "metadata": {},
   "outputs": [
    {
     "name": "stdout",
     "output_type": "stream",
     "text": [
      "only imsi\n",
      "{'precision': 0.9986842105263158, 'recall': 0.9908616187989556}\n",
      "only simserial\n",
      "{'precision': 0.6837837837837838, 'recall': 0.9908616187989556}\n",
      "only mac\n",
      "{'precision': 0.005410082823714197, 'recall': 0.9712793733681462}\n"
     ]
    }
   ],
   "source": [
    "for c in id_columns:\n",
    "    print('only ' + c)\n",
    "    ret = fp_evaluation(df, label_column, [c])\n",
    "    print(ret)"
   ]
  },
  {
   "cell_type": "markdown",
   "metadata": {},
   "source": [
    "### 5.2 非ID类特征 - 过度关联"
   ]
  },
  {
   "cell_type": "code",
   "execution_count": 26,
   "metadata": {},
   "outputs": [
    {
     "name": "stdout",
     "output_type": "stream",
     "text": [
      "NO ID Feature \n",
      "{'precision': 0.006752437270257312, 'recall': 0.8825065274151436}\n"
     ]
    }
   ],
   "source": [
    "print('NO ID Feature ')\n",
    "ret = fp_evaluation(df, label_column, normal_columns)\n",
    "print(ret)"
   ]
  },
  {
   "cell_type": "markdown",
   "metadata": {},
   "source": [
    "### 5.3 混合 - 过度区分"
   ]
  },
  {
   "cell_type": "code",
   "execution_count": 27,
   "metadata": {},
   "outputs": [
    {
     "name": "stdout",
     "output_type": "stream",
     "text": [
      "{'precision': 1.0, 'recall': 0.8472584856396866}\n"
     ]
    }
   ],
   "source": [
    "ret = fp_evaluation(df, label_column, fp_features.index)\n",
    "print(ret)"
   ]
  },
  {
   "cell_type": "markdown",
   "metadata": {},
   "source": [
    "### 5.4 forward selection"
   ]
  },
  {
   "cell_type": "code",
   "execution_count": 28,
   "metadata": {},
   "outputs": [],
   "source": [
    "from IPython.display import display, HTML\n",
    "pd.set_option('max_colwidth', 180)\n",
    "\n",
    "def show_ret(ret_list):\n",
    "    ret_df = pd.DataFrame(ret_list)\n",
    "#     display(ret_df[0:10])\n",
    "    \n",
    "    ax = ret_df.plot(y=['recall'], xticks=ret_df.index, figsize=(10,4), grid=True)\n",
    "    ax.set_xticklabels(ret_df['column'], rotation=90)\n",
    "    \n",
    "    return ret_df"
   ]
  },
  {
   "cell_type": "code",
   "execution_count": 29,
   "metadata": {},
   "outputs": [],
   "source": [
    "candidates = fp_features.index.tolist()"
   ]
  },
  {
   "cell_type": "code",
   "execution_count": 30,
   "metadata": {},
   "outputs": [],
   "source": [
    "selected_columns = []\n",
    "left_columns = list(set(candidates) - set(selected_columns)) \n",
    "\n",
    "ret_list = []\n",
    "while( len(left_columns) > 0 ):\n",
    "    max_recall = 0\n",
    "    cur_column = None\n",
    "    cur_ret = None\n",
    "    \n",
    "    if(len(selected_columns) == 0):\n",
    "        ## Don't calc for every single feature. When the information_gain of a feature is low, memory would be explosive for merge in evaluation\n",
    "        cur_column = 'imsi'\n",
    "        cur_ret = fp_evaluation(df, label_column, ['imsi'])\n",
    "    else:\n",
    "        ## Get Best Feature\n",
    "        for c in left_columns:\n",
    "            ret = fp_evaluation(df, label_column, selected_columns + [c])\n",
    "            if(ret['recall'] > max_recall):\n",
    "                max_recall = ret['recall']\n",
    "                cur_column = c\n",
    "                cur_ret = ret\n",
    "\n",
    "    ## Append Best Feature\n",
    "    selected_columns.append(cur_column)\n",
    "    left_columns = list(set(candidates) - set(selected_columns)) \n",
    "    \n",
    "    cur_ret['feature'] = selected_columns.copy()\n",
    "    cur_ret['column'] = cur_column\n",
    "    ret_list.append(cur_ret)\n",
    "    if(DEBUG):\n",
    "        print(cur_column)"
   ]
  },
  {
   "cell_type": "code",
   "execution_count": 31,
   "metadata": {},
   "outputs": [
    {
     "data": {
      "text/html": [
       "<div>\n",
       "<style scoped>\n",
       "    .dataframe tbody tr th:only-of-type {\n",
       "        vertical-align: middle;\n",
       "    }\n",
       "\n",
       "    .dataframe tbody tr th {\n",
       "        vertical-align: top;\n",
       "    }\n",
       "\n",
       "    .dataframe thead th {\n",
       "        text-align: right;\n",
       "    }\n",
       "</style>\n",
       "<table border=\"1\" class=\"dataframe\">\n",
       "  <thead>\n",
       "    <tr style=\"text-align: right;\">\n",
       "      <th></th>\n",
       "      <th>column</th>\n",
       "      <th>feature</th>\n",
       "      <th>precision</th>\n",
       "      <th>recall</th>\n",
       "    </tr>\n",
       "  </thead>\n",
       "  <tbody>\n",
       "    <tr>\n",
       "      <th>0</th>\n",
       "      <td>imsi</td>\n",
       "      <td>[imsi]</td>\n",
       "      <td>0.998684</td>\n",
       "      <td>0.990862</td>\n",
       "    </tr>\n",
       "    <tr>\n",
       "      <th>1</th>\n",
       "      <td>phone_name</td>\n",
       "      <td>[imsi, phone_name]</td>\n",
       "      <td>1.000000</td>\n",
       "      <td>0.990862</td>\n",
       "    </tr>\n",
       "    <tr>\n",
       "      <th>2</th>\n",
       "      <td>lcd</td>\n",
       "      <td>[imsi, phone_name, lcd]</td>\n",
       "      <td>1.000000</td>\n",
       "      <td>0.990862</td>\n",
       "    </tr>\n",
       "    <tr>\n",
       "      <th>3</th>\n",
       "      <td>phone_os</td>\n",
       "      <td>[imsi, phone_name, lcd, phone_os]</td>\n",
       "      <td>1.000000</td>\n",
       "      <td>0.990862</td>\n",
       "    </tr>\n",
       "    <tr>\n",
       "      <th>4</th>\n",
       "      <td>totalmemory</td>\n",
       "      <td>[imsi, phone_name, lcd, phone_os, totalmemory]</td>\n",
       "      <td>1.000000</td>\n",
       "      <td>0.990862</td>\n",
       "    </tr>\n",
       "    <tr>\n",
       "      <th>5</th>\n",
       "      <td>totalsd</td>\n",
       "      <td>[imsi, phone_name, lcd, phone_os, totalmemory, totalsd]</td>\n",
       "      <td>1.000000</td>\n",
       "      <td>0.990862</td>\n",
       "    </tr>\n",
       "    <tr>\n",
       "      <th>6</th>\n",
       "      <td>totalsystem</td>\n",
       "      <td>[imsi, phone_name, lcd, phone_os, totalmemory, totalsd, totalsystem]</td>\n",
       "      <td>1.000000</td>\n",
       "      <td>0.990862</td>\n",
       "    </tr>\n",
       "    <tr>\n",
       "      <th>7</th>\n",
       "      <td>simserial</td>\n",
       "      <td>[imsi, phone_name, lcd, phone_os, totalmemory, totalsd, totalsystem, simserial]</td>\n",
       "      <td>1.000000</td>\n",
       "      <td>0.990862</td>\n",
       "    </tr>\n",
       "    <tr>\n",
       "      <th>8</th>\n",
       "      <td>phone_model</td>\n",
       "      <td>[imsi, phone_name, lcd, phone_os, totalmemory, totalsd, totalsystem, simserial, phone_model]</td>\n",
       "      <td>1.000000</td>\n",
       "      <td>0.990862</td>\n",
       "    </tr>\n",
       "    <tr>\n",
       "      <th>9</th>\n",
       "      <td>hardware</td>\n",
       "      <td>[imsi, phone_name, lcd, phone_os, totalmemory, totalsd, totalsystem, simserial, phone_model, hardware]</td>\n",
       "      <td>1.000000</td>\n",
       "      <td>0.990862</td>\n",
       "    </tr>\n",
       "    <tr>\n",
       "      <th>10</th>\n",
       "      <td>product</td>\n",
       "      <td>[imsi, phone_name, lcd, phone_os, totalmemory, totalsd, totalsystem, simserial, phone_model, hardware, product]</td>\n",
       "      <td>1.000000</td>\n",
       "      <td>0.989556</td>\n",
       "    </tr>\n",
       "    <tr>\n",
       "      <th>11</th>\n",
       "      <td>displayrom</td>\n",
       "      <td>[imsi, phone_name, lcd, phone_os, totalmemory, totalsd, totalsystem, simserial, phone_model, hardware, product, displayrom]</td>\n",
       "      <td>1.000000</td>\n",
       "      <td>0.983029</td>\n",
       "    </tr>\n",
       "    <tr>\n",
       "      <th>12</th>\n",
       "      <td>fingerprint</td>\n",
       "      <td>[imsi, phone_name, lcd, phone_os, totalmemory, totalsd, totalsystem, simserial, phone_model, hardware, product, displayrom, fingerprint]</td>\n",
       "      <td>1.000000</td>\n",
       "      <td>0.972585</td>\n",
       "    </tr>\n",
       "    <tr>\n",
       "      <th>13</th>\n",
       "      <td>cpuspeed</td>\n",
       "      <td>[imsi, phone_name, lcd, phone_os, totalmemory, totalsd, totalsystem, simserial, phone_model, hardware, product, displayrom, fingerprint, cpuspeed]</td>\n",
       "      <td>1.000000</td>\n",
       "      <td>0.953003</td>\n",
       "    </tr>\n",
       "    <tr>\n",
       "      <th>14</th>\n",
       "      <td>mac</td>\n",
       "      <td>[imsi, phone_name, lcd, phone_os, totalmemory, totalsd, totalsystem, simserial, phone_model, hardware, product, displayrom, fingerprint, cpuspeed, mac]</td>\n",
       "      <td>1.000000</td>\n",
       "      <td>0.925587</td>\n",
       "    </tr>\n",
       "    <tr>\n",
       "      <th>15</th>\n",
       "      <td>mnc</td>\n",
       "      <td>[imsi, phone_name, lcd, phone_os, totalmemory, totalsd, totalsystem, simserial, phone_model, hardware, product, displayrom, fingerprint, cpuspeed, mac, mnc]</td>\n",
       "      <td>1.000000</td>\n",
       "      <td>0.847258</td>\n",
       "    </tr>\n",
       "  </tbody>\n",
       "</table>\n",
       "</div>"
      ],
      "text/plain": [
       "         column  \\\n",
       "0          imsi   \n",
       "1    phone_name   \n",
       "2           lcd   \n",
       "3      phone_os   \n",
       "4   totalmemory   \n",
       "5       totalsd   \n",
       "6   totalsystem   \n",
       "7     simserial   \n",
       "8   phone_model   \n",
       "9      hardware   \n",
       "10      product   \n",
       "11   displayrom   \n",
       "12  fingerprint   \n",
       "13     cpuspeed   \n",
       "14          mac   \n",
       "15          mnc   \n",
       "\n",
       "                                                                                                                                                         feature  \\\n",
       "0                                                                                                                                                         [imsi]   \n",
       "1                                                                                                                                             [imsi, phone_name]   \n",
       "2                                                                                                                                        [imsi, phone_name, lcd]   \n",
       "3                                                                                                                              [imsi, phone_name, lcd, phone_os]   \n",
       "4                                                                                                                 [imsi, phone_name, lcd, phone_os, totalmemory]   \n",
       "5                                                                                                        [imsi, phone_name, lcd, phone_os, totalmemory, totalsd]   \n",
       "6                                                                                           [imsi, phone_name, lcd, phone_os, totalmemory, totalsd, totalsystem]   \n",
       "7                                                                                [imsi, phone_name, lcd, phone_os, totalmemory, totalsd, totalsystem, simserial]   \n",
       "8                                                                   [imsi, phone_name, lcd, phone_os, totalmemory, totalsd, totalsystem, simserial, phone_model]   \n",
       "9                                                         [imsi, phone_name, lcd, phone_os, totalmemory, totalsd, totalsystem, simserial, phone_model, hardware]   \n",
       "10                                               [imsi, phone_name, lcd, phone_os, totalmemory, totalsd, totalsystem, simserial, phone_model, hardware, product]   \n",
       "11                                   [imsi, phone_name, lcd, phone_os, totalmemory, totalsd, totalsystem, simserial, phone_model, hardware, product, displayrom]   \n",
       "12                      [imsi, phone_name, lcd, phone_os, totalmemory, totalsd, totalsystem, simserial, phone_model, hardware, product, displayrom, fingerprint]   \n",
       "13            [imsi, phone_name, lcd, phone_os, totalmemory, totalsd, totalsystem, simserial, phone_model, hardware, product, displayrom, fingerprint, cpuspeed]   \n",
       "14       [imsi, phone_name, lcd, phone_os, totalmemory, totalsd, totalsystem, simserial, phone_model, hardware, product, displayrom, fingerprint, cpuspeed, mac]   \n",
       "15  [imsi, phone_name, lcd, phone_os, totalmemory, totalsd, totalsystem, simserial, phone_model, hardware, product, displayrom, fingerprint, cpuspeed, mac, mnc]   \n",
       "\n",
       "    precision    recall  \n",
       "0    0.998684  0.990862  \n",
       "1    1.000000  0.990862  \n",
       "2    1.000000  0.990862  \n",
       "3    1.000000  0.990862  \n",
       "4    1.000000  0.990862  \n",
       "5    1.000000  0.990862  \n",
       "6    1.000000  0.990862  \n",
       "7    1.000000  0.990862  \n",
       "8    1.000000  0.990862  \n",
       "9    1.000000  0.990862  \n",
       "10   1.000000  0.989556  \n",
       "11   1.000000  0.983029  \n",
       "12   1.000000  0.972585  \n",
       "13   1.000000  0.953003  \n",
       "14   1.000000  0.925587  \n",
       "15   1.000000  0.847258  "
      ]
     },
     "execution_count": 31,
     "metadata": {},
     "output_type": "execute_result"
    },
    {
     "data": {
      "image/png": "[encoded data removed]",
      "text/plain": [
       "<Figure size 720x288 with 1 Axes>"
      ]
     },
     "metadata": {},
     "output_type": "display_data"
    }
   ],
   "source": [
    "show_ret(ret_list)"
   ]
  },
  {
   "cell_type": "code",
   "execution_count": null,
   "metadata": {},
   "outputs": [],
   "source": []
  }
 ],
 "metadata": {
  "kernelspec": {
   "display_name": "Python 3",
   "language": "python",
   "name": "python3"
  },
  "language_info": {
   "codemirror_mode": {
    "name": "ipython",
    "version": 3
   },
   "file_extension": ".py",
   "mimetype": "text/x-python",
   "name": "python",
   "nbconvert_exporter": "python",
   "pygments_lexer": "ipython3",
   "version": "3.6.8"
  }
 },
 "nbformat": 4,
 "nbformat_minor": 2
}
